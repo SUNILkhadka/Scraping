{
 "cells": [
  {
   "cell_type": "code",
   "execution_count": 5,
   "id": "94f98542-763a-4d6e-9e21-ef117397dc5c",
   "metadata": {},
   "outputs": [],
   "source": [
    "import requests\n",
    "import json"
   ]
  },
  {
   "cell_type": "code",
   "execution_count": 10,
   "id": "7bec16ae-bdc6-4ae3-8ab6-70684c0af823",
   "metadata": {},
   "outputs": [],
   "source": [
    "search_key = 'चुनाव'\n",
    "url = f\"https://bg.annapurnapost.com/api/search?title={search_key}&page=1\"\n",
    "header = {\n",
    "    # 'path': '/api/search?title=%E0%A4%9A%E0%A5%81%E0%A4%A8%E0%A4%BE%E0%A4%B5'\n",
    "    'authority': 'bg.annapurnapost.com',\n",
    "    'content-type': 'application/json',\n",
    "    'sec-ch-ua': '\" Not A;Brand\";v=\"99\", \"Chromium\";v=\"98\", \"Google Chrome\";v=\"98\"',\n",
    "    'cache-control': 'no-cache',\n",
    "    'user-agent': 'Mozilla/5.0 (X11; Linux x86_64) AppleWebKit/537.36 (KHTML, like Gecko) Chrome/98.0.4758.102 Safari/537.36',\n",
    "    \n",
    "}\n",
    "response = requests.get(url,headers=header)"
   ]
  },
  {
   "cell_type": "code",
   "execution_count": 11,
   "id": "51174914-bfe6-4dbe-b65f-f07db45a3dab",
   "metadata": {},
   "outputs": [
    {
     "data": {
      "text/plain": [
       "dict_keys(['items', 'total', 'totalPage', 'count', 'links'])"
      ]
     },
     "execution_count": 11,
     "metadata": {},
     "output_type": "execute_result"
    }
   ],
   "source": [
    "response.json()['data'].keys()"
   ]
  },
  {
   "cell_type": "code",
   "execution_count": 12,
   "id": "efee6622-63e1-4e9f-9782-b887311e3d9b",
   "metadata": {},
   "outputs": [],
   "source": [
    "data = response.json()['data']"
   ]
  },
  {
   "cell_type": "code",
   "execution_count": 14,
   "id": "53a554c1-cb7c-42a4-9a32-3f5f08d1238d",
   "metadata": {},
   "outputs": [
    {
     "data": {
      "text/plain": [
       "dict_keys(['items', 'total', 'totalPage', 'count', 'links'])"
      ]
     },
     "execution_count": 14,
     "metadata": {},
     "output_type": "execute_result"
    }
   ],
   "source": [
    "data.keys()"
   ]
  },
  {
   "cell_type": "code",
   "execution_count": 17,
   "id": "ea8cb07c-9764-42bf-a39c-e1ab164a4f57",
   "metadata": {},
   "outputs": [
    {
     "data": {
      "text/plain": [
       "94"
      ]
     },
     "execution_count": 17,
     "metadata": {},
     "output_type": "execute_result"
    }
   ],
   "source": [
    "data['totalPage']"
   ]
  },
  {
   "cell_type": "code",
   "execution_count": null,
   "id": "3d279a3d-0f30-4702-8758-d1e283f19be3",
   "metadata": {},
   "outputs": [],
   "source": []
  },
  {
   "cell_type": "code",
   "execution_count": null,
   "id": "445c2534-ed58-4b83-883f-c6507ac649af",
   "metadata": {},
   "outputs": [],
   "source": [
    "def fetch_data(search_key='चुनाव',page):\n",
    "    url = f\"https://bg.annapurnapost.com/api/search?title={search_key}&page=1\"\n",
    "    header = {\n",
    "        # 'path': '/api/search?title=%E0%A4%9A%E0%A5%81%E0%A4%A8%E0%A4%BE%E0%A4%B5'\n",
    "        'authority': 'bg.annapurnapost.com',\n",
    "        'content-type': 'application/json',\n",
    "        'sec-ch-ua': '\" Not A;Brand\";v=\"99\", \"Chromium\";v=\"98\", \"Google Chrome\";v=\"98\"',\n",
    "        'cache-control': 'no-cache',\n",
    "        'user-agent': 'Mozilla/5.0 (X11; Linux x86_64) AppleWebKit/537.36 (KHTML, like Gecko) Chrome/98.0.4758.102 Safari/537.36',\n",
    "\n",
    "    }\n",
    "    return requests.get(url,headers=header)"
   ]
  },
  {
   "cell_type": "code",
   "execution_count": 6,
   "id": "e1936182-f3f9-40f1-8fdd-adf3079a4f36",
   "metadata": {
    "tags": []
   },
   "outputs": [],
   "source": [
    "class Annapurna_Scraper:\n",
    "    def __init__(self,page_no,search_keyword = 'चुनाव',save_to_file=True):\n",
    "        self.search_keyword = search_keyword\n",
    "        self.page_no = page_no\n",
    "        self.save_to_file = save_to_file\n",
    "        self.responses = []\n",
    "        self.data = []\n",
    "        \n",
    "    def fetch_data(self,search_key,page):\n",
    "        url = f\"https://bg.annapurnapost.com/api/search?title={search_key}&page={page}\"\n",
    "        header = {\n",
    "            # 'path': '/api/search?title=%E0%A4%9A%E0%A5%81%E0%A4%A8%E0%A4%BE%E0%A4%B5'\n",
    "            'authority': 'bg.annapurnapost.com',\n",
    "            'content-type': 'application/json',\n",
    "            'sec-ch-ua': '\" Not A;Brand\";v=\"99\", \"Chromium\";v=\"98\", \"Google Chrome\";v=\"98\"',\n",
    "            'cache-control': 'no-cache',\n",
    "            'user-agent': 'Mozilla/5.0 (X11; Linux x86_64) AppleWebKit/537.36 (KHTML, like Gecko) Chrome/98.0.4758.102 Safari/537.36',\n",
    "\n",
    "        }\n",
    "        return requests.get(url,headers=header)\n",
    "    \n",
    "    def Scrape(self):\n",
    "        try:\n",
    "            for page in range(self.page_no):\n",
    "                self.responses.append(self.fetch_data(self.search_keyword,page+1))\n",
    "            for response in self.responses:\n",
    "                if response.status_code != 200 :\n",
    "                    raise Exception('Connection error !!!')\n",
    "                else:\n",
    "                    data = response.json()['data']['items']\n",
    "                    if self.save_to_file == True:\n",
    "                        with open('scrape.json','a') as f:\n",
    "                            json.dump(data,f)\n",
    "                    else:\n",
    "                        self.data += data \n",
    "            return self.data\n",
    "        except Exception as e:\n",
    "            print(e)\n",
    "                \n",
    "                "
   ]
  },
  {
   "cell_type": "code",
   "execution_count": 7,
   "id": "c99a6312-dbce-44f9-9470-c090fdf9a34e",
   "metadata": {},
   "outputs": [
    {
     "name": "stdout",
     "output_type": "stream",
     "text": [
      "Connection error !!!\n"
     ]
    }
   ],
   "source": [
    "scrape = Annapurna_Scraper(2,False)\n",
    "data = scrape.Scrape()"
   ]
  },
  {
   "cell_type": "code",
   "execution_count": 21,
   "id": "ea8237a9-a007-4464-8023-7acd1a867173",
   "metadata": {},
   "outputs": [],
   "source": [
    "dictionary ={\n",
    "    \"name\" : \"sathiyajith\",\n",
    "    \"rollno\" : [56,34],\n",
    "    \"cgpa\" : 8.6,\n",
    "    \"phonenumber\" : \"9976770500\"\n",
    "}\n",
    "json_object = json.dumps(dictionary, indent = 4) \n",
    "with open(\"sample.json\", \"w\") as outfile:\n",
    "    json.dump(dictionary, outfile)"
   ]
  },
  {
   "cell_type": "code",
   "execution_count": 22,
   "id": "52411a14-40c0-41f9-83f6-1198a4330203",
   "metadata": {},
   "outputs": [
    {
     "name": "stdout",
     "output_type": "stream",
     "text": [
      "{\n",
      "    \"name\": \"sathiyajith\",\n",
      "    \"rollno\": [\n",
      "        56,\n",
      "        34\n",
      "    ],\n",
      "    \"cgpa\": 8.6,\n",
      "    \"phonenumber\": \"9976770500\"\n",
      "}\n"
     ]
    }
   ],
   "source": [
    "print(json_object)"
   ]
  },
  {
   "cell_type": "code",
   "execution_count": 24,
   "id": "e9ffa916-12d9-4981-b9c3-997dd51c5633",
   "metadata": {},
   "outputs": [],
   "source": [
    "with open(\"sample.json\", \"r\") as f:\n",
    "    jsobj = json.loads(f.read())"
   ]
  },
  {
   "cell_type": "code",
   "execution_count": 30,
   "id": "4a281fe4-c9f1-4830-a2ec-2e531666b23c",
   "metadata": {},
   "outputs": [
    {
     "name": "stdout",
     "output_type": "stream",
     "text": [
      "None\n"
     ]
    }
   ],
   "source": [
    "import requests\n",
    "import json\n",
    "\n",
    "class Annapurna_Scraper:\n",
    "    def __init__(self,page_no,search_keyword = 'चुनाव',save_to_file=True):\n",
    "        self.search_keyword = search_keyword\n",
    "        self.page_no = page_no\n",
    "        self.save_to_file = save_to_file\n",
    "        self.responses = []\n",
    "        self.data = {}\n",
    "        \n",
    "    def fetch_data(self,search_key,page):\n",
    "        url = f\"https://bg.annapurnapost.com/api/search?title={search_key}&page={page}\"\n",
    "        header = {\n",
    "            'authority': 'bg.annapurnapost.com',\n",
    "            'content-type': 'application/json',\n",
    "            'sec-ch-ua': '\" Not A;Brand\";v=\"99\", \"Chromium\";v=\"98\", \"Google Chrome\";v=\"98\"',\n",
    "            'cache-control': 'no-cache',\n",
    "            'user-agent': 'Mozilla/5.0 (X11; Linux x86_64) AppleWebKit/537.36 (KHTML, like Gecko) Chrome/98.0.4758.102 Safari/537.36',\n",
    "\n",
    "        }\n",
    "        return requests.get(url,headers=header)\n",
    "    \n",
    "    def Scrape(self):\n",
    "        try:\n",
    "            for page in range(self.page_no):\n",
    "                # self.responses.append(self.fetch_data(self.search_keyword,page+1))\n",
    "                response = self.fetch_data(self.search_keyword,page+1)\n",
    "                if response.status_code != 200 :\n",
    "                    raise Exception('Connection error !!!')\n",
    "                else:\n",
    "                    data = response.json()['data']\n",
    "                    self.data[page+1] = data \n",
    "\n",
    "            if self.save_to_file == True:\n",
    "                with open('scrape.json','a') as f:\n",
    "                    json.dump(self.data,f)\n",
    "            else:    \n",
    "                return self.data\n",
    "        except Exception as e:\n",
    "            print(e)\n",
    "\n",
    "\n",
    "scrape = Annapurna_Scraper(page_no=2,save_to_file=True)\n",
    "scrape.Scrape() \n",
    "          "
   ]
  },
  {
   "cell_type": "code",
   "execution_count": null,
   "id": "7b282f20-daa4-48e7-a2a3-a11283d8f3c0",
   "metadata": {},
   "outputs": [],
   "source": []
  },
  {
   "cell_type": "code",
   "execution_count": null,
   "id": "0be2d02e-a259-4d9d-9513-744c3d0ceb6a",
   "metadata": {},
   "outputs": [],
   "source": []
  }
 ],
 "metadata": {
  "kernelspec": {
   "display_name": "Python 3 (ipykernel)",
   "language": "python",
   "name": "python3"
  },
  "language_info": {
   "codemirror_mode": {
    "name": "ipython",
    "version": 3
   },
   "file_extension": ".py",
   "mimetype": "text/x-python",
   "name": "python",
   "nbconvert_exporter": "python",
   "pygments_lexer": "ipython3",
   "version": "3.9.10"
  }
 },
 "nbformat": 4,
 "nbformat_minor": 5
}
