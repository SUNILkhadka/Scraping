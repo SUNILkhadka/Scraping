{
 "cells": [
  {
   "cell_type": "code",
   "execution_count": 34,
   "id": "609b1148-334b-4d2b-b4b3-1a8eb26e0e10",
   "metadata": {},
   "outputs": [],
   "source": [
    "import requests\n",
    "import json\n",
    "from bs4 import BeautifulSoup"
   ]
  },
  {
   "cell_type": "code",
   "execution_count": null,
   "id": "5443c353-c30c-439c-9bf0-49f486c03dac",
   "metadata": {
    "jupyter": {
     "source_hidden": true
    },
    "tags": []
   },
   "outputs": [],
   "source": [
    "header = {\n",
    "    'Host': 'voterlist.election.gov.np',\n",
    "    'Connection': 'keep-alive',\n",
    "    'Cache-Control': 'no-cache',\n",
    "    'sec-ch-ua': '\" Not A;Brand\";v=\"99\", \"Chromium\";v=\"98\", \"Google Chrome\";v=\"98\"',\n",
    "    'Origin': 'https://voterlist.election.gov.np',\n",
    "    'Content-Type': 'application/x-www-form-urlencoded',\n",
    "    'User-Agent': 'Mozilla/5.0 (X11; Linux x86_64) AppleWebKit/537.36 (KHTML, like Gecko) Chrome/98.0.4758.102 Safari/537.36',\n",
    "    'Accept': 'text/html,application/xhtml+xml,application/xml;q=0.9,image/avif,image/webp,image/apng,*/*;q=0.8,application/signed-exchange;v=b3;q=0.9',\n",
    "    'Referer': 'https://voterlist.election.gov.np/bbvrs/index_2.php',\n",
    "    'Accept-Encoding': 'gzip, deflate, br',\n",
    "    'Accept-Language': 'en-US,en;q=0.9',\n",
    "    'Cookie': 'PHPSESSID=u5ivle26vd8put1pt5qqonr9k6; mext_instdms=1'\n",
    "}"
   ]
  },
  {
   "cell_type": "code",
   "execution_count": 95,
   "id": "f4c3409d-c9e1-4d60-81b7-43bb3c99778b",
   "metadata": {
    "tags": []
   },
   "outputs": [],
   "source": [
    "def voting_list(state,ward_no):\n",
    "    payload = {\n",
    "        'state':f'{state}',\n",
    "        'district':'26',\n",
    "        'vdc_mun':'5278',\n",
    "        'ward':f'{ward_no}',\n",
    "        'reg_centre':''\n",
    "            }\n",
    "    url = 'https://voterlist.election.gov.np/bbvrs/view_ward_1.php'\n",
    "    response = requests.post(url,data=payload)\n",
    "    soup = BeautifulSoup(response.text,\"html.parser\") \n",
    "    div = soup.find('div',class_='div_bbvrs_data')\n",
    "    table = div.find(\"table\")\n",
    "    head_table_data = table.thead.find_all('th')\n",
    "    body_table_data = table.tbody.find_all(\"tr\")  \n",
    "    list_data = []\n",
    "    for count in range(len(body_table_data)):\n",
    "        dict_data = {}\n",
    "        # for data in body_table_data[i].find_all(\"td\"):\n",
    "        for i,th in enumerate(head_table_data[:-1]):\n",
    "            dict_data[th.get_text()] = body_table_data[count].find_all(\"td\")[i].get_text()   \n",
    "        list_data.append(dict_data)\n",
    "    with open(f'voting_list_ward{ward_no}.json','w') as f:\n",
    "        json.dump(list_data,f)\n",
    "\n",
    "voting_list(3,1)"
   ]
  },
  {
   "cell_type": "code",
   "execution_count": null,
   "id": "5885a002-5c8b-4e75-818b-79f789dfcf0e",
   "metadata": {
    "jupyter": {
     "source_hidden": true
    },
    "tags": []
   },
   "outputs": [],
   "source": [
    "def voting_list():\n",
    "    payload = {\n",
    "        'state':'3',\n",
    "        'district':'26',\n",
    "        'vdc_mun':'5278',\n",
    "        'ward':'1',\n",
    "        'reg_centre':''\n",
    "            }\n",
    "    url = 'https://voterlist.election.gov.np/bbvrs/view_ward_1.php'\n",
    "    response = requests.post(url,data=payload)\n",
    "    soup = BeautifulSoup(response.text,\"html.parser\") \n",
    "    div = soup.find('div',class_='div_bbvrs_data')\n",
    "    table = div.find(\"table\")\n",
    "    head_table_data = table.thead.find_all('th')\n",
    "    body_table_data = table.tbody.find_all(\"tr\")  \n",
    "    dict_data = {}\n",
    "    list_data = []\n",
    "    count = 0\n",
    "    for i in range(len(body_table_data))\n",
    "        for data in body_table_data[i].find_all(\"td\"):\n",
    "            for th in head_table_data[:-1]:\n",
    "                dict_data[th] = data[count].get_text()\n",
    "            count+=1\n",
    "        list_data.append(dict_data)\n",
    "    \n",
    "    # for th in head_table_data[:-1]:\n",
    "    #     value = []\n",
    "    #     for i in range(len(body_table_data)):\n",
    "    #         value.append(body_table_data[i].find_all(\"td\")[count].get_text())\n",
    "    #     count+=1\n",
    "    #     data[th] = value\n",
    "    with open('voting_list.json','w') as f:\n",
    "        json.dump(list_data,f)\n",
    "\n",
    "voting_list()"
   ]
  },
  {
   "cell_type": "code",
   "execution_count": 91,
   "id": "9a60f51c-bcee-431d-9977-3941804294ae",
   "metadata": {},
   "outputs": [],
   "source": [
    "from nepali_unicode_converter.convert import Converter"
   ]
  },
  {
   "cell_type": "code",
   "execution_count": 93,
   "id": "25df56b4-b3c6-4198-8ec5-8c9108c67786",
   "metadata": {},
   "outputs": [],
   "source": [
    "converter = Converter()\n",
    "string = converter.convert('अंकित आचार्य')"
   ]
  },
  {
   "cell_type": "code",
   "execution_count": 94,
   "id": "589c7670-588f-45fe-aaaa-45c864a34aa5",
   "metadata": {},
   "outputs": [
    {
     "data": {
      "text/plain": [
       "'अंकित आचार्य'"
      ]
     },
     "execution_count": 94,
     "metadata": {},
     "output_type": "execute_result"
    }
   ],
   "source": [
    "string"
   ]
  },
  {
   "cell_type": "code",
   "execution_count": 88,
   "id": "00e6069d-8e64-4328-a634-f56a14334130",
   "metadata": {},
   "outputs": [
    {
     "ename": "JSONDecodeError",
     "evalue": "Expecting value: line 1 column 1 (char 0)",
     "output_type": "error",
     "traceback": [
      "\u001b[0;31m---------------------------------------------------------------------------\u001b[0m",
      "\u001b[0;31mJSONDecodeError\u001b[0m                           Traceback (most recent call last)",
      "Input \u001b[0;32mIn [88]\u001b[0m, in \u001b[0;36m<cell line: 1>\u001b[0;34m()\u001b[0m\n\u001b[1;32m      1\u001b[0m \u001b[38;5;28;01mwith\u001b[39;00m \u001b[38;5;28mopen\u001b[39m(\u001b[38;5;124m'\u001b[39m\u001b[38;5;124mvoting_list.json\u001b[39m\u001b[38;5;124m'\u001b[39m,\u001b[38;5;124m'\u001b[39m\u001b[38;5;124mr\u001b[39m\u001b[38;5;124m'\u001b[39m) \u001b[38;5;28;01mas\u001b[39;00m f:\n\u001b[0;32m----> 2\u001b[0m     obj \u001b[38;5;241m=\u001b[39m \u001b[43mjson\u001b[49m\u001b[38;5;241;43m.\u001b[39;49m\u001b[43mloads\u001b[49m\u001b[43m(\u001b[49m\u001b[43mf\u001b[49m\u001b[38;5;241;43m.\u001b[39;49m\u001b[43mread\u001b[49m\u001b[43m(\u001b[49m\u001b[43m)\u001b[49m\u001b[43m)\u001b[49m\n",
      "File \u001b[0;32m/usr/lib/python3.9/json/__init__.py:346\u001b[0m, in \u001b[0;36mloads\u001b[0;34m(s, cls, object_hook, parse_float, parse_int, parse_constant, object_pairs_hook, **kw)\u001b[0m\n\u001b[1;32m    341\u001b[0m     s \u001b[38;5;241m=\u001b[39m s\u001b[38;5;241m.\u001b[39mdecode(detect_encoding(s), \u001b[38;5;124m'\u001b[39m\u001b[38;5;124msurrogatepass\u001b[39m\u001b[38;5;124m'\u001b[39m)\n\u001b[1;32m    343\u001b[0m \u001b[38;5;28;01mif\u001b[39;00m (\u001b[38;5;28mcls\u001b[39m \u001b[38;5;129;01mis\u001b[39;00m \u001b[38;5;28;01mNone\u001b[39;00m \u001b[38;5;129;01mand\u001b[39;00m object_hook \u001b[38;5;129;01mis\u001b[39;00m \u001b[38;5;28;01mNone\u001b[39;00m \u001b[38;5;129;01mand\u001b[39;00m\n\u001b[1;32m    344\u001b[0m         parse_int \u001b[38;5;129;01mis\u001b[39;00m \u001b[38;5;28;01mNone\u001b[39;00m \u001b[38;5;129;01mand\u001b[39;00m parse_float \u001b[38;5;129;01mis\u001b[39;00m \u001b[38;5;28;01mNone\u001b[39;00m \u001b[38;5;129;01mand\u001b[39;00m\n\u001b[1;32m    345\u001b[0m         parse_constant \u001b[38;5;129;01mis\u001b[39;00m \u001b[38;5;28;01mNone\u001b[39;00m \u001b[38;5;129;01mand\u001b[39;00m object_pairs_hook \u001b[38;5;129;01mis\u001b[39;00m \u001b[38;5;28;01mNone\u001b[39;00m \u001b[38;5;129;01mand\u001b[39;00m \u001b[38;5;129;01mnot\u001b[39;00m kw):\n\u001b[0;32m--> 346\u001b[0m     \u001b[38;5;28;01mreturn\u001b[39;00m \u001b[43m_default_decoder\u001b[49m\u001b[38;5;241;43m.\u001b[39;49m\u001b[43mdecode\u001b[49m\u001b[43m(\u001b[49m\u001b[43ms\u001b[49m\u001b[43m)\u001b[49m\n\u001b[1;32m    347\u001b[0m \u001b[38;5;28;01mif\u001b[39;00m \u001b[38;5;28mcls\u001b[39m \u001b[38;5;129;01mis\u001b[39;00m \u001b[38;5;28;01mNone\u001b[39;00m:\n\u001b[1;32m    348\u001b[0m     \u001b[38;5;28mcls\u001b[39m \u001b[38;5;241m=\u001b[39m JSONDecoder\n",
      "File \u001b[0;32m/usr/lib/python3.9/json/decoder.py:337\u001b[0m, in \u001b[0;36mJSONDecoder.decode\u001b[0;34m(self, s, _w)\u001b[0m\n\u001b[1;32m    332\u001b[0m \u001b[38;5;28;01mdef\u001b[39;00m \u001b[38;5;21mdecode\u001b[39m(\u001b[38;5;28mself\u001b[39m, s, _w\u001b[38;5;241m=\u001b[39mWHITESPACE\u001b[38;5;241m.\u001b[39mmatch):\n\u001b[1;32m    333\u001b[0m     \u001b[38;5;124;03m\"\"\"Return the Python representation of ``s`` (a ``str`` instance\u001b[39;00m\n\u001b[1;32m    334\u001b[0m \u001b[38;5;124;03m    containing a JSON document).\u001b[39;00m\n\u001b[1;32m    335\u001b[0m \n\u001b[1;32m    336\u001b[0m \u001b[38;5;124;03m    \"\"\"\u001b[39;00m\n\u001b[0;32m--> 337\u001b[0m     obj, end \u001b[38;5;241m=\u001b[39m \u001b[38;5;28;43mself\u001b[39;49m\u001b[38;5;241;43m.\u001b[39;49m\u001b[43mraw_decode\u001b[49m\u001b[43m(\u001b[49m\u001b[43ms\u001b[49m\u001b[43m,\u001b[49m\u001b[43m \u001b[49m\u001b[43midx\u001b[49m\u001b[38;5;241;43m=\u001b[39;49m\u001b[43m_w\u001b[49m\u001b[43m(\u001b[49m\u001b[43ms\u001b[49m\u001b[43m,\u001b[49m\u001b[43m \u001b[49m\u001b[38;5;241;43m0\u001b[39;49m\u001b[43m)\u001b[49m\u001b[38;5;241;43m.\u001b[39;49m\u001b[43mend\u001b[49m\u001b[43m(\u001b[49m\u001b[43m)\u001b[49m\u001b[43m)\u001b[49m\n\u001b[1;32m    338\u001b[0m     end \u001b[38;5;241m=\u001b[39m _w(s, end)\u001b[38;5;241m.\u001b[39mend()\n\u001b[1;32m    339\u001b[0m     \u001b[38;5;28;01mif\u001b[39;00m end \u001b[38;5;241m!=\u001b[39m \u001b[38;5;28mlen\u001b[39m(s):\n",
      "File \u001b[0;32m/usr/lib/python3.9/json/decoder.py:355\u001b[0m, in \u001b[0;36mJSONDecoder.raw_decode\u001b[0;34m(self, s, idx)\u001b[0m\n\u001b[1;32m    353\u001b[0m     obj, end \u001b[38;5;241m=\u001b[39m \u001b[38;5;28mself\u001b[39m\u001b[38;5;241m.\u001b[39mscan_once(s, idx)\n\u001b[1;32m    354\u001b[0m \u001b[38;5;28;01mexcept\u001b[39;00m \u001b[38;5;167;01mStopIteration\u001b[39;00m \u001b[38;5;28;01mas\u001b[39;00m err:\n\u001b[0;32m--> 355\u001b[0m     \u001b[38;5;28;01mraise\u001b[39;00m JSONDecodeError(\u001b[38;5;124m\"\u001b[39m\u001b[38;5;124mExpecting value\u001b[39m\u001b[38;5;124m\"\u001b[39m, s, err\u001b[38;5;241m.\u001b[39mvalue) \u001b[38;5;28;01mfrom\u001b[39;00m \u001b[38;5;28mNone\u001b[39m\n\u001b[1;32m    356\u001b[0m \u001b[38;5;28;01mreturn\u001b[39;00m obj, end\n",
      "\u001b[0;31mJSONDecodeError\u001b[0m: Expecting value: line 1 column 1 (char 0)"
     ]
    }
   ],
   "source": [
    "with open('voting_list.json','r') as f:\n",
    "    obj = json.loads(f.read())"
   ]
  },
  {
   "cell_type": "code",
   "execution_count": null,
   "id": "2378ebbb-166f-45e5-b541-1375ebc37987",
   "metadata": {},
   "outputs": [],
   "source": []
  }
 ],
 "metadata": {
  "kernelspec": {
   "display_name": "Python 3 (ipykernel)",
   "language": "python",
   "name": "python3"
  },
  "language_info": {
   "codemirror_mode": {
    "name": "ipython",
    "version": 3
   },
   "file_extension": ".py",
   "mimetype": "text/x-python",
   "name": "python",
   "nbconvert_exporter": "python",
   "pygments_lexer": "ipython3",
   "version": "3.9.10"
  }
 },
 "nbformat": 4,
 "nbformat_minor": 5
}
