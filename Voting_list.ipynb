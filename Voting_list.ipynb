{
 "cells": [
  {
   "cell_type": "code",
   "execution_count": 18,
   "id": "609b1148-334b-4d2b-b4b3-1a8eb26e0e10",
   "metadata": {},
   "outputs": [],
   "source": [
    "import requests\n",
    "import json\n",
    "from bs4 import BeautifulSoup"
   ]
  },
  {
   "cell_type": "code",
   "execution_count": 19,
   "id": "f738edb6-dc07-4fd1-b620-7ee97fc6733d",
   "metadata": {},
   "outputs": [],
   "source": [
    "ktm_ward = [2, 3, 4, 5]\n",
    "budhanilkantha_ward = [3, 4, 5, 6, 7 ]\n",
    "tokha_mun_ward = [2, 3, 4, 5, 6, 7]\n",
    "state = {\"name\" : \"बागमती प्रदेश\",\n",
    "       \"no\" : \"3\"}\n",
    "district = {\"name\" : \"काठमाण्डौ\",\n",
    "            \"no\" : \"26\"}\n",
    "ktm = {\"name\" : \"काठमाण्डौ महानगरपालिका\",\n",
    "            \"no\" : \"5278\"}\n",
    "budhanilkantha = {\"name\" : \"बुढानिलकण्ठ नगरपालिका\",\n",
    "                 \"no\" : \"5286\"}\n",
    "tokha_mun = {\"name\" : \"टोखा नगरपालिका\",\n",
    "            \"no\" : \"5282\"}"
   ]
  },
  {
   "cell_type": "code",
   "execution_count": 32,
   "id": "f4c3409d-c9e1-4d60-81b7-43bb3c99778b",
   "metadata": {
    "tags": []
   },
   "outputs": [],
   "source": [
    "def voting_list(state,district,vdc_mun,ward_no):\n",
    "    state_name = state['name']\n",
    "    state_no = state['no']\n",
    "    district_name = district['name']\n",
    "    district_no = district['no']\n",
    "    vdc_mun_name = vdc_mun['name']\n",
    "    vdc_mun_no = vdc_mun['no']\n",
    "    list_data = []\n",
    "    for ward in ward_no:\n",
    "        payload = {\n",
    "            'state':f'{state_no}',\n",
    "            'district':f'{district_no}',\n",
    "            'vdc_mun':f'{vdc_mun_no}',\n",
    "            'ward':f'{ward}',\n",
    "            'reg_centre':''\n",
    "                }\n",
    "        url = 'https://voterlist.election.gov.np/bbvrs/view_ward_1.php'\n",
    "        response = requests.post(url,data=payload)\n",
    "        soup = BeautifulSoup(response.text,\"html.parser\") \n",
    "        div = soup.find('div',class_='div_bbvrs_data')\n",
    "        table = div.find(\"table\")\n",
    "        head_table_data = ['voter_id','voter_name','age','gender','spouse_name','parent_name','vdc_mun','ward']\n",
    "        body_table_data = table.tbody.find_all(\"tr\")  \n",
    "        for count in range(len(body_table_data)):\n",
    "            dict_data = {}\n",
    "            for i,th in enumerate(head_table_data):\n",
    "                if i <=5:\n",
    "                    dict_data[th] = body_table_data[count].find_all(\"td\")[i+1].get_text()   \n",
    "                elif i == 6:\n",
    "                    dict_data[th] = vdc_mun_name\n",
    "                else:\n",
    "                    dict_data[th] = str(ward)\n",
    "            list_data.append(dict_data)\n",
    "    numbers_map = {'0': '०','1': '१','2': '२','3': '३','4': '४','5': '५','6': '६','7': '७','8': '८','9': '९'}\n",
    "    num_unicode_ls = ['voter_id','age','ward']\n",
    "    for data in list_data:\n",
    "        for key in data.keys():\n",
    "            if key in num_unicode_ls:\n",
    "                for eng_num,unicode  in numbers_map.items():\n",
    "                    data[key] = data[key].replace(eng_num,unicode)\n",
    "    return list_data \n",
    "\n",
    "def save(list_, *args):   \n",
    "    for arg in args:\n",
    "        list_ += arg\n",
    "    with open('final_voting_list.json','w',encoding='utf8') as file:\n",
    "        json.dump(list_,file,ensure_ascii=False)"
   ]
  },
  {
   "cell_type": "code",
   "execution_count": 23,
   "id": "14c3f731-a018-45ed-b9f0-3e3691e8e039",
   "metadata": {},
   "outputs": [],
   "source": [
    "ktm_metro = voting_list(state,district,ktm,ktm_ward)\n",
    "budhanilkantha_metro = voting_list(state,district,budhanilkantha,budhanilkantha_ward)\n",
    "tokha_metro = voting_list(state,district,tokha_mun,tokha_mun_ward)"
   ]
  },
  {
   "cell_type": "code",
   "execution_count": 24,
   "id": "b4acb4fc-0e52-43a6-919b-1a38d808f50f",
   "metadata": {},
   "outputs": [],
   "source": [
    "save(ktm_metro,budhanilkantha_metro,tokha_metro)"
   ]
  },
  {
   "cell_type": "code",
   "execution_count": null,
   "id": "2d207e4f-567e-4c6f-913d-9abddaacd1e0",
   "metadata": {},
   "outputs": [],
   "source": []
  },
  {
   "cell_type": "code",
   "execution_count": null,
   "id": "47f6d2d9-3b6d-471c-ba4f-847cb2845b56",
   "metadata": {},
   "outputs": [],
   "source": []
  },
  {
   "cell_type": "code",
   "execution_count": null,
   "id": "3c031d0b-f370-47f5-a995-55463ea69df5",
   "metadata": {},
   "outputs": [],
   "source": []
  },
  {
   "cell_type": "code",
   "execution_count": 8,
   "id": "c56f6bae-33ba-434e-a897-e5114589f6ec",
   "metadata": {},
   "outputs": [],
   "source": [
    "def string(list_data):\n",
    "    string_list_data = str(list_data)\n",
    "    numbers_map = {'0': '०','1': '१','2': '२','3': '३','4': '४','5': '५','6': '६','7': '७','8': '८','9': '९'}\n",
    "    for eng_num,unicode in numbers_map.items():\n",
    "        string_list_data = string_list_data.replace(eng_num,unicode)\n",
    "    return string_list_data[1:-1]"
   ]
  },
  {
   "cell_type": "code",
   "execution_count": null,
   "id": "5885a002-5c8b-4e75-818b-79f789dfcf0e",
   "metadata": {
    "tags": []
   },
   "outputs": [],
   "source": [
    "def voting_list():\n",
    "    payload = {\n",
    "        'state':'3',\n",
    "        'district':'26',\n",
    "        'vdc_mun':'5278',\n",
    "        'ward':'1',\n",
    "        'reg_centre':''\n",
    "            }\n",
    "    url = 'https://voterlist.election.gov.np/bbvrs/view_ward_1.php'\n",
    "    response = requests.post(url,data=payload)\n",
    "    soup = BeautifulSoup(response.text,\"html.parser\") \n",
    "    div = soup.find('div',class_='div_bbvrs_data')\n",
    "    table = div.find(\"table\")\n",
    "    head_table_data = table.thead.find_all('th')\n",
    "    body_table_data = table.tbody.find_all(\"tr\")  \n",
    "    dict_data = {}\n",
    "    list_data = []\n",
    "    count = 0\n",
    "    for i in range(len(body_table_data))\n",
    "        for data in body_table_data[i].find_all(\"td\"):\n",
    "            for th in head_table_data[:-1]:\n",
    "                dict_data[th] = data[count].get_text()\n",
    "            count+=1\n",
    "        list_data.append(dict_data)\n",
    "    \n",
    "    # for th in head_table_data[:-1]:\n",
    "    #     value = []\n",
    "    #     for i in range(len(body_table_data)):\n",
    "    #         value.append(body_table_data[i].find_all(\"td\")[count].get_text())\n",
    "    #     count+=1\n",
    "    #     data[th] = value\n",
    "    with open('voting_list.json','w') as f:\n",
    "        json.dump(list_data,f)\n",
    "\n",
    "voting_list()"
   ]
  }
 ],
 "metadata": {
  "kernelspec": {
   "display_name": "Python 3 (ipykernel)",
   "language": "python",
   "name": "python3"
  },
  "language_info": {
   "codemirror_mode": {
    "name": "ipython",
    "version": 3
   },
   "file_extension": ".py",
   "mimetype": "text/x-python",
   "name": "python",
   "nbconvert_exporter": "python",
   "pygments_lexer": "ipython3",
   "version": "3.9.10"
  }
 },
 "nbformat": 4,
 "nbformat_minor": 5
}
