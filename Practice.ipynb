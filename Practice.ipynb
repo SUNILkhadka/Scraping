{
 "cells": [
  {
   "cell_type": "code",
   "execution_count": 1,
   "id": "c9d49874-7280-4c06-b98e-3074acbb32a4",
   "metadata": {},
   "outputs": [],
   "source": [
    "import requests as get"
   ]
  },
  {
   "cell_type": "code",
   "execution_count": 2,
   "id": "dc692f88-ffbe-4b23-a7de-d3901c9585be",
   "metadata": {},
   "outputs": [],
   "source": [
    "url = \"https://www.imdb.com/search/title/?count=100&title_type=feature,tv_series&ref_=nv_wl_img_2\""
   ]
  },
  {
   "cell_type": "code",
   "execution_count": null,
   "id": "264203a6-8fd3-48fa-949a-c13fe68c4a60",
   "metadata": {},
   "outputs": [],
   "source": [
    "def fetch_data(self,url,authority):\n",
    "    url = f\"{url}\"\n",
    "    header = {\n",
    "        'authority': f'{authority}',\n",
    "        'content-type': 'application/json',\n",
    "        'sec-ch-ua': '\" Not A;Brand\";v=\"99\", \"Chromium\";v=\"98\", \"Google Chrome\";v=\"98\"',\n",
    "        'cache-control': 'no-cache',\n",
    "        'user-agent': 'Mozilla/5.0 (X11; Linux x86_64) AppleWebKit/537.36 (KHTML, like Gecko) Chrome/98.0.4758.102 Safari/537.36',\n",
    "\n",
    "    }\n",
    "    return requests.get(url,headers=header)"
   ]
  }
 ],
 "metadata": {
  "kernelspec": {
   "display_name": "Python 3 (ipykernel)",
   "language": "python",
   "name": "python3"
  },
  "language_info": {
   "codemirror_mode": {
    "name": "ipython",
    "version": 3
   },
   "file_extension": ".py",
   "mimetype": "text/x-python",
   "name": "python",
   "nbconvert_exporter": "python",
   "pygments_lexer": "ipython3",
   "version": "3.9.10"
  }
 },
 "nbformat": 4,
 "nbformat_minor": 5
}
