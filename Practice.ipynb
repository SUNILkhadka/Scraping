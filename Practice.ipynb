{
 "cells": [
  {
   "cell_type": "code",
   "execution_count": 1,
   "id": "c9d49874-7280-4c06-b98e-3074acbb32a4",
   "metadata": {},
   "outputs": [],
   "source": [
    "import requests"
   ]
  },
  {
   "cell_type": "code",
   "execution_count": 53,
   "id": "264203a6-8fd3-48fa-949a-c13fe68c4a60",
   "metadata": {},
   "outputs": [],
   "source": [
    "def fetch_data(url):\n",
    "    headers = {\n",
    "        # 'authority': f'',\n",
    "        # 'content-type': 'application/json',\n",
    "        # 'sec-ch-ua': '\" Not A;Brand\";v=\"99\", \"Chromium\";v=\"98\", \"Google Chrome\";v=\"98\"',\n",
    "        # 'cache-control': 'no-cache',\n",
    "        # 'user-agent': 'Mozilla/5.0 (X11; Linux x86_64) AppleWebKit/537.36 (KHTML, like Gecko) Chrome/98.0.4758.102 Safari/537.36',\n",
    "        \"Authorization\": \"Bearer\"\n",
    "    }\n",
    "    # return requests.get(url,auth=('user','passwd'))\n",
    "    requests.get(url,data=headers)"
   ]
  },
  {
   "cell_type": "code",
   "execution_count": 54,
   "id": "aabfbd44-fb5f-429f-9de7-042c40e780a1",
   "metadata": {},
   "outputs": [
    {
     "name": "stdout",
     "output_type": "stream",
     "text": [
      "None\n"
     ]
    }
   ],
   "source": [
    "print(fetch_data(\"https://httpbin.org/#/Auth/get_bearer\"))"
   ]
  },
  {
   "cell_type": "code",
   "execution_count": 39,
   "id": "dc6dfba5-ecef-408a-87d6-4884d2cb1b7b",
   "metadata": {},
   "outputs": [],
   "source": []
  },
  {
   "cell_type": "code",
   "execution_count": 41,
   "id": "080b3d31-e623-4742-b265-9d027a9b24d2",
   "metadata": {},
   "outputs": [
    {
     "name": "stdout",
     "output_type": "stream",
     "text": [
      "None\n"
     ]
    }
   ],
   "source": []
  },
  {
   "cell_type": "code",
   "execution_count": null,
   "id": "c0340705-79b3-4ca4-8e30-3dc7faac1d2f",
   "metadata": {},
   "outputs": [],
   "source": []
  }
 ],
 "metadata": {
  "kernelspec": {
   "display_name": "Python 3 (ipykernel)",
   "language": "python",
   "name": "python3"
  },
  "language_info": {
   "codemirror_mode": {
    "name": "ipython",
    "version": 3
   },
   "file_extension": ".py",
   "mimetype": "text/x-python",
   "name": "python",
   "nbconvert_exporter": "python",
   "pygments_lexer": "ipython3",
   "version": "3.9.10"
  }
 },
 "nbformat": 4,
 "nbformat_minor": 5
}
