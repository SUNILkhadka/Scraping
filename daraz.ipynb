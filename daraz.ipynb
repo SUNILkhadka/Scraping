{
 "cells": [
  {
   "cell_type": "code",
   "execution_count": 101,
   "id": "f6764ae9-2f80-4391-bea6-b9f325e52678",
   "metadata": {},
   "outputs": [],
   "source": [
    "import urllib.request as request\n",
    "import json\n",
    "\n",
    "\n",
    "response = request.urlopen('https://www.daraz.com.np/#')\n",
    "data = response.read().decode('utf-8')"
   ]
  },
  {
   "cell_type": "code",
   "execution_count": 14,
   "id": "30f08084-b517-42a1-a606-f4d6c8436a50",
   "metadata": {},
   "outputs": [],
   "source": [
    "import requests\n",
    "import json"
   ]
  },
  {
   "cell_type": "code",
   "execution_count": 57,
   "id": "50671460-e6d8-4e0d-a3b2-c3e9c2431579",
   "metadata": {},
   "outputs": [],
   "source": [
    "url = \"https://acs-m.daraz.com.np/h5/mtop.daraz.ald.homepage.service/1.0/?jsv=2.6.1&appKey=24677475&t=1647201266213&sign=15bb38c046e58f7afbc2ffa95632feda&api=mtop.daraz.ald.homepage.service&v=1.0&timeout=8000&x-i18n-language=en&x-i18n-regionID=NP&dataType=json&type=originaljson&data=%7B%22language%22%3A%22en-NP%22%2C%22regionID%22%3A%22NP%22%2C%22platform%22%3A%22pc%22%2C%22userID%22%3A%22%22%2C%22anonUID%22%3A%22698906d0-13a4-4f15-bd86-f554bed6cb51%22%2C%22deviceID%22%3A%22%22%2C%22voyagerVersion%22%3A%222%22%2C%22pageNo%22%3A0%2C%22isbackup%22%3Atrue%2C%22backupParams%22%3A%22language%2CregionID%2Cplatform%2CpageNo%22%2C%22pcSlot%22%3A%22200%22%2C%22mobileSlot%22%3A%22200%22%2C%22appId%22%3A%222642033%22%2C%22_pvuuid%22%3A1647201221978%2C%22terminalType%22%3A1%7D\"\n",
    "headers = {\n",
    "    \"referer\": \"https://www.daraz.com.np/\",\n",
    "    \"cookie\": \"lzd_cid=698906d0-13a4-4f15-bd86-f554bed6cb51; t_uid=698906d0-13a4-4f15-bd86-f554bed6cb51; t_fv=1646945711923; hng=NP|en-NP|NPR|524; cna=frywGkoyL0ICAS1Ao2Hv69b9; _gcl_au=1.1.105414331.1646945712; _fbp=fb.2.1646945713648.386286585; _gid=GA1.3.700269071.1647116906; xlly_s=1; lzd_sid=1953a8a7bae4d0d9587ffd8715272817; _tb_token_=ee18e3e733ee; _m_h5_tk=069066bd1e8693edb269e68a7d51c8c9_1647173627487; _m_h5_tk_enc=9b92321fb56468f360135e622a691968; t_sid=RwUhxRaH4wHfTtYoL1lYs6C488bfouJ9; utm_channel=NA; daraz-marketing-tracker=hide; _ga_GEHLHHEXPG=GS1.1.1647201078.10.1.1647201221.0; _ga=GA1.3.601965837.1646945713; cto_bundle=16nAul9Tc2RzdkpzWU40eldvSE4zbUxFMHpiejRvUDFtdnkxNnUlMkZJMGFZNzd5Qno0Z2J5R0s1ZFJBbEg3aEU0OXlLUDhWcjl2bHZsbktCSCUyQldMazFWTXolMkZJbDBYMjklMkZsUTJQblRIaUpNNyUyQmJ1U0JxWWpCVzRBR2Q0ajB2dFElMkZVQWtmTEhCV2FvWHFzdEYlMkJnTW5yYXBTRWhTUSUzRCUzRA; tfstk=cRSAB0OpN2vXbe9RLZUl1du2Xz_Aa5Uvs7AEX8mx6EaYJYnibsYfxMe120vpTIeR.; l=eBPKcf2PLr3tYfoABOfZhurza779QIRAHuPzaNbMiOCPO-1wJMROW6mUVyYeCnMNh6zBR38a0mi4BeYBYCmxI_O299-oy0kmn; isg=BOnpzrbNrzb8qJOGniG4lAw9-JxDtt3owDIPbYved1AVUglk0wcHuKhMFO7kCHUg\",\n",
    "    \"authority\": \"acs-m.daraz.com.np\",\n",
    "    \"method\": \"GET\",\n",
    "    \"cache-control\": \"no-cache\",\n",
    "    \"user-agent\": \"Mozilla/5.0 (Windows NT 10.0; Win64; x64) AppleWebKit/537.36 (KHTML, like Gecko) Chrome/99.0.4844.51 Safari/537.36\"\n",
    "}\n",
    "response = requests.get(url,headers= headers)"
   ]
  },
  {
   "cell_type": "code",
   "execution_count": 58,
   "id": "4733b281-2d21-4aab-9c03-c8ab8fe62b71",
   "metadata": {},
   "outputs": [],
   "source": [
    "data = response.json()['data']"
   ]
  },
  {
   "cell_type": "code",
   "execution_count": null,
   "id": "0e55abb9-36ac-40b4-bcbc-28ab6a14d9d2",
   "metadata": {},
   "outputs": [],
   "source": [
    "result_list = data['resultValue']['2642033']['data']"
   ]
  },
  {
   "cell_type": "code",
   "execution_count": 23,
   "id": "5142fa10-e72b-4b7b-89b8-0f6994c69962",
   "metadata": {},
   "outputs": [],
   "source": [
    "# result_list = [x for x in result_list if x.pop('trackInfo',None)== None]\n",
    "for x in result_list:\n",
    "    x.pop('trackInfo')\n",
    "    x.pop('clickTrackInfo')\n",
    "    x.pop('__track__')"
   ]
  },
  {
   "cell_type": "code",
   "execution_count": 24,
   "id": "89e6bd7e-777b-4da5-9819-40c37c043ca4",
   "metadata": {},
   "outputs": [],
   "source": [
    "with open('data.json','w+') as file:\n",
    "  json.dump(result_list,file)"
   ]
  },
  {
   "cell_type": "code",
   "execution_count": 25,
   "id": "800124c7-bb12-44aa-801b-55b2b28eda5e",
   "metadata": {},
   "outputs": [
    {
     "name": "stdout",
     "output_type": "stream",
     "text": [
      "Elastic Motorcycle bag helmet baggage luggage Cargo net Band\n",
      "Telescopic Fishing Rod 2.4M Carbon Fiber Lure Fishing Pole For Travel Outdoor\n",
      "Pink & Brown Formal pantsFor Women (24 to 32 waist)\n",
      "Kemei Rechargeable Epilator\n",
      "Chase Gc43Laaps 43\" Full Hd Smart Led Tv - Black\n",
      "4GB DDR3 PC3L 10600 RAM\n",
      "Bluetooth Led Music Bulb\n",
      "Colors CL185 Muisc (1.8\", 1800 mAh, Wiress FM, Camera)\n",
      "Muscle Massage Gun fh320 Deep Tissue Massager Vibrating Fascial Gun Body Massager Exercise Muscle Relax Pain Relief Body Shaping\n",
      "Fashion Sneakers Mesh Casual Shoes Lightweight 2021 for Ladies ( New Style )\n",
      "Red Simple Daily Use Bangle For Women (2pc)\n",
      "Brown Wooden Bone Big Photo Frame\n",
      "Brass Large Ganesh Design Sukunda\n",
      "WG Chiuree Neem 100g\n",
      "Pink Tassel Design Kurti For Women  (Design May Vary) By Arushi\n",
      "PLEXTONE PC780 Double Bass Gaming Headphones Headsets with HD Mic + LED Light Noise Cancelling Headphone for PC Laptop\n",
      "Gopro Battery Charger 3-Channel Type-C Battery Quick Charger for GoPro Hero 9 / 10\n",
      "Portable Rechargeable USB Mini Hand Fan\n",
      "Electric Bedsheets\n",
      "Black Iphone XS Max Printed Back Cover\n",
      "School Shoes For Girl K\n",
      "Toothpaste Dispenser With Tooth Brush Holder\n",
      "Mumlove Baby Teething Chewable Colorful Silicone Teether Toy 'A1092'\n",
      "Campus Sutra Women Solid Stylish Casual Dresses\n"
     ]
    }
   ],
   "source": [
    "for x in result_list:\n",
    "    print(x['itemTitle'])"
   ]
  },
  {
   "cell_type": "code",
   "execution_count": 1,
   "id": "2d7a5609-4c53-40cb-aae5-f25f64ac0a48",
   "metadata": {},
   "outputs": [],
   "source": [
    "url2 = 'https://acs-m.daraz.com.np/h5/mtop.daraz.ald.homepage.service/1.0/?jsv=2.6.1&appKey=24677475&t=1647201315553&sign=7b65157c5b27a55968a777efb11960c6&api=mtop.daraz.ald.homepage.service&v=1.0&timeout=8000&x-i18n-language=en&x-i18n-regionID=NP&dataType=json&type=originaljson&data=%7B%22language%22%3A%22en-NP%22%2C%22regionID%22%3A%22NP%22%2C%22platform%22%3A%22pc%22%2C%22userID%22%3A%22%22%2C%22anonUID%22%3A%22698906d0-13a4-4f15-bd86-f554bed6cb51%22%2C%22deviceID%22%3A%22%22%2C%22voyagerVersion%22%3A%222%22%2C%22pageNo%22%3A1%2C%22isbackup%22%3Atrue%2C%22backupParams%22%3A%22language%2CregionID%2Cplatform%2CpageNo%22%2C%22pcSlot%22%3A%22200%22%2C%22mobileSlot%22%3A%22200%22%2C%22appId%22%3A%222642033%22%2C%22_pvuuid%22%3A1647201221978%2C%22terminalType%22%3A1%7D'"
   ]
  },
  {
   "cell_type": "code",
   "execution_count": 61,
   "id": "b67a1487-d183-4c9d-84d7-e0b4338f3a8c",
   "metadata": {},
   "outputs": [],
   "source": [
    "url99 = \"https://member.daraz.com.np/user/api/getContextInfo\"\n",
    "headers99 = {\n",
    "    \"referer\": \"https://www.daraz.com.np/\",\n",
    "    \"cookie\": \"client_type=desktop; lzd_cid=698906d0-13a4-4f15-bd86-f554bed6cb51; t_uid=698906d0-13a4-4f15-bd86-f554bed6cb51; t_fv=1646945711923; hng=NP|en-NP|NPR|524; cna=frywGkoyL0ICAS1Ao2Hv69b9; _gcl_au=1.1.105414331.1646945712; _fbp=fb.2.1646945713648.386286585; _gid=GA1.3.700269071.1647116906; lzd_sid=1953a8a7bae4d0d9587ffd8715272817; _tb_token_=ee18e3e733ee; t_sid=xp3yU3TUNAjAXvKzBkA1nlyryImbjPXY; utm_channel=NA; _m_h5_tk=3223722290b90c2aa0c2672c9afe0d3d_1647184054977; _m_h5_tk_enc=405d983ede44b98089f665e24f0a90fc; daraz-marketing-tracker=hide; xlly_s=1; _ga=GA1.3.601965837.1646945713; cto_bundle=RBUzwF9Tc2RzdkpzWU40eldvSE4zbUxFMHpRZ3phU3Y0Z0JNa2hmVyUyRkFoTkdtQkdiSHdiSmEzaVQlMkZNTGRMZnZYa0dUUmslMkZwdmFFMnJ2ckc5UE1RYzR6V3ZiejclMkI1VXF3NjFLd055NEwwRklvSmtzTmxWOTNkdjViU2Y2eVdVYll0MXlWTUdQR3Jwd0JLcW1uZ3BtS0gzRFMyUSUzRCUzRA; _ga_GEHLHHEXPG=GS1.1.1647209442.11.1.1647210061.0; isg=BCwscXMEYtHsNHbpU_KF01m-_QNe5dCPVRHqQoZtslfikcybrvUoH6xgsUEpGQjn; l=eBPKcf2PLr3tYMYJBO5aPurza77TnIRb4sPzaNbMiInca6a1_HMS4NCnYSdv8dtjQt1Udety7ooj0RLHRH5RwxDDBBBeq4hInxf..; tfstk=cUIdBgOv1qvC6wvO3wUGN07jD_5daWapZ5Aq2RmCsV1_iygsWsx5mie5XcvvgBeO.\",\n",
    "    \"authority\": \"member.daraz.com.np\",\n",
    "    \"method\": \"GET\",\n",
    "    \"path\": \"/user/api/getContextInfo\",\n",
    "    \"cache-control\": \"no-cache\",\n",
    "    \"user-agent\": \"Mozilla/5.0 (Windows NT 10.0; Win64; x64) AppleWebKit/537.36 (KHTML, like Gecko) Chrome/99.0.4844.51 Safari/537.36\"\n",
    "}\n",
    "response99 = requests.get(url99,headers= headers99)"
   ]
  },
  {
   "cell_type": "code",
   "execution_count": 35,
   "id": "ff4eb4f3-cbbd-4706-ad9c-b5929294f266",
   "metadata": {
    "tags": []
   },
   "outputs": [],
   "source": [
    "data2 = cleaning(response)"
   ]
  },
  {
   "cell_type": "code",
   "execution_count": 37,
   "id": "a68559b1-dc11-4f9a-ad7f-4050bc5b881a",
   "metadata": {},
   "outputs": [],
   "source": [
    "saving(data2,'data','a')"
   ]
  },
  {
   "cell_type": "code",
   "execution_count": 76,
   "id": "4cd9768d-4b67-4c6c-b778-64209409fd17",
   "metadata": {},
   "outputs": [],
   "source": [
    "def fetch_data(url,cookie):\n",
    "    headers = {\n",
    "    \"referer\": \"https://www.daraz.com.np/\",\n",
    "    \"cookie\": f'{cookie}',\n",
    "    \"authority\": \"acs-m.daraz.com.np\",\n",
    "    \"method\": \"GET\",\n",
    "    \"cache-control\": \"no-cache\",\n",
    "    \"user-agent\": \"Mozilla/5.0 (X11; Linux x86_64) AppleWebKit/537.36 (KHTML, like Gecko) Chrome/98.0.4758.102 Safari/537.36\"\n",
    "    }\n",
    "    return requests.get(url,headers)\n",
    "def cleaning(response):\n",
    "    data = response.json()['data']\n",
    "    result_list = data['resultValue']['2642033']['data']\n",
    "    for x in result_list:\n",
    "        x.pop('trackInfo')\n",
    "        x.pop('clickTrackInfo')\n",
    "        x.pop('__track__')\n",
    "    return result_list\n",
    "def saving(_list,filename,mode):\n",
    "    filename = f'{str(filename)}.json'\n",
    "    mode = str(mode)\n",
    "    with open(filename,'a') as file:\n",
    "        json.dump(result_list,file)\n",
    "    "
   ]
  },
  {
   "cell_type": "code",
   "execution_count": 77,
   "id": "30456b0a-0c7f-4420-ab11-bbf8899ee61b",
   "metadata": {},
   "outputs": [],
   "source": [
    "url = \"https://acs-m.daraz.com.np/h5/mtop.daraz.ald.homepage.service/1.0/?jsv=2.4.11&appKey=24677475&t=1647212011225&sign=328c75154ebece8390a16f79b9e4971b&api=mtop.daraz.ald.homepage.service&v=1.0&timeout=8000&x-i18n-language=en&x-i18n-regionID=NP&dataType=json&type=originaljson&data=%7B%22language%22%3A%22en-NP%22%2C%22regionID%22%3A%22NP%22%2C%22platform%22%3A%22pc%22%2C%22userID%22%3A%22%22%2C%22anonUID%22%3A%22698906d0-13a4-4f15-bd86-f554bed6cb51%22%2C%22deviceID%22%3A%22%22%2C%22voyagerVersion%22%3A%222%22%2C%22pageNo%22%3A0%2C%22isbackup%22%3Atrue%2C%22backupParams%22%3A%22language%2CregionID%2Cplatform%2CpageNo%22%2C%22pcSlot%22%3A%22200%22%2C%22mobileSlot%22%3A%22200%22%2C%22appId%22%3A%222642033%22%2C%22_pvuuid%22%3A1647212009320%2C%22terminalType%22%3A1%7D\"\n",
    "cookie = \"lzd_cid=698906d0-13a4-4f15-bd86-f554bed6cb51; t_uid=698906d0-13a4-4f15-bd86-f554bed6cb51; t_fv=1646945711923; hng=NP|en-NP|NPR|524; cna=frywGkoyL0ICAS1Ao2Hv69b9; _gcl_au=1.1.105414331.1646945712; _fbp=fb.2.1646945713648.386286585; _gid=GA1.3.700269071.1647116906; lzd_sid=1953a8a7bae4d0d9587ffd8715272817; _tb_token_=ee18e3e733ee; t_sid=xp3yU3TUNAjAXvKzBkA1nlyryImbjPXY; utm_channel=NA; _m_h5_tk=3223722290b90c2aa0c2672c9afe0d3d_1647184054977; _m_h5_tk_enc=405d983ede44b98089f665e24f0a90fc; xlly_s=1; cto_bundle=BPMxKF9Tc2RzdkpzWU40eldvSE4zbUxFMHpXZ2dwclk0MmNJQnBwc1J5VGhQYTY2YVhYZERRR3BDajhLcCUyQnprVWJzUTlhd0lKd29JT2VzZWowU2NoNkZqNEJWTTB4b2E4a3g2T2RwdCUyRjR0MnRiT0tDYkxvOGRuTmp0NmNCcGslMkYyVnREajFxdGpGVWFZQjc4UWJMbEFVdzZNaUElM0QlM0Q; _gat_UA-98188874-1=1; _ga_GEHLHHEXPG=GS1.1.1647209442.11.1.1647212007.0; _ga=GA1.1.601965837.1646945713; daraz-marketing-tracker=hide; tfstk=c5EOBuG-OUDsD2MLUPQ3GnyFyazOZ37ti6cyD9x_2M9MQv-Ai1Zu2tZpxYhr69C..; l=eBPKcf2PLr3tYIMMBOfwourza77OSIRAguPzaNbMiOCPOe595NfdW6mUIu8pC3MNhs1MR38a0mi4BeYBYImtI_O299-oy4Hmn; isg=BKWll1WlK4pmrU_ScpW8mChRtGjf4ll0JA4z2aeKYVzqvsUwbzJpRDNYSDrIvnEs\"\n",
    "response = fetch_data(url,cookie)"
   ]
  },
  {
   "cell_type": "code",
   "execution_count": 78,
   "id": "bf61b14c-9163-44a0-a38c-9efe7eef1664",
   "metadata": {},
   "outputs": [
    {
     "data": {
      "text/plain": [
       "{}"
      ]
     },
     "execution_count": 78,
     "metadata": {},
     "output_type": "execute_result"
    }
   ],
   "source": [
    "response.json()['data']"
   ]
  },
  {
   "cell_type": "code",
   "execution_count": 67,
   "id": "df611d07-2be6-4c9f-93b2-1c34fcee5554",
   "metadata": {},
   "outputs": [
    {
     "ename": "KeyError",
     "evalue": "'resultValue'",
     "output_type": "error",
     "traceback": [
      "\u001b[0;31m---------------------------------------------------------------------------\u001b[0m",
      "\u001b[0;31mKeyError\u001b[0m                                  Traceback (most recent call last)",
      "Input \u001b[0;32mIn [67]\u001b[0m, in \u001b[0;36m<cell line: 1>\u001b[0;34m()\u001b[0m\n\u001b[0;32m----> 1\u001b[0m data \u001b[38;5;241m=\u001b[39m \u001b[43mcleaning\u001b[49m\u001b[43m(\u001b[49m\u001b[43mresponse\u001b[49m\u001b[43m)\u001b[49m\n",
      "Input \u001b[0;32mIn [60]\u001b[0m, in \u001b[0;36mcleaning\u001b[0;34m(response)\u001b[0m\n\u001b[1;32m     11\u001b[0m \u001b[38;5;28;01mdef\u001b[39;00m \u001b[38;5;21mcleaning\u001b[39m(response):\n\u001b[1;32m     12\u001b[0m     data \u001b[38;5;241m=\u001b[39m response\u001b[38;5;241m.\u001b[39mjson()[\u001b[38;5;124m'\u001b[39m\u001b[38;5;124mdata\u001b[39m\u001b[38;5;124m'\u001b[39m]\n\u001b[0;32m---> 13\u001b[0m     result_list \u001b[38;5;241m=\u001b[39m \u001b[43mdata\u001b[49m\u001b[43m[\u001b[49m\u001b[38;5;124;43m'\u001b[39;49m\u001b[38;5;124;43mresultValue\u001b[39;49m\u001b[38;5;124;43m'\u001b[39;49m\u001b[43m]\u001b[49m[\u001b[38;5;124m'\u001b[39m\u001b[38;5;124m2642033\u001b[39m\u001b[38;5;124m'\u001b[39m][\u001b[38;5;124m'\u001b[39m\u001b[38;5;124mdata\u001b[39m\u001b[38;5;124m'\u001b[39m]\n\u001b[1;32m     14\u001b[0m     \u001b[38;5;28;01mfor\u001b[39;00m x \u001b[38;5;129;01min\u001b[39;00m result_list:\n\u001b[1;32m     15\u001b[0m         x\u001b[38;5;241m.\u001b[39mpop(\u001b[38;5;124m'\u001b[39m\u001b[38;5;124mtrackInfo\u001b[39m\u001b[38;5;124m'\u001b[39m)\n",
      "\u001b[0;31mKeyError\u001b[0m: 'resultValue'"
     ]
    }
   ],
   "source": [
    "data = cleaning(response)"
   ]
  },
  {
   "cell_type": "code",
   "execution_count": 72,
   "id": "96a99f99-dd72-4b7a-bf25-6f5ba1d95459",
   "metadata": {},
   "outputs": [],
   "source": [
    "with open('hello.json','w') as f:\n",
    "    json.dump(data,f)"
   ]
  },
  {
   "cell_type": "code",
   "execution_count": 49,
   "id": "06684049-0c73-4de3-9724-a20a2b4132f7",
   "metadata": {},
   "outputs": [],
   "source": [
    "with open('hello.json','r') as f:\n",
    "    lists = json.load(f)"
   ]
  },
  {
   "cell_type": "code",
   "execution_count": 70,
   "id": "25f0123a-673f-494e-98f5-491abd2c9a16",
   "metadata": {},
   "outputs": [],
   "source": [
    "data = data2 + data2"
   ]
  },
  {
   "cell_type": "code",
   "execution_count": 71,
   "id": "20d849fd-9b26-4752-8223-de13f90d5678",
   "metadata": {},
   "outputs": [
    {
     "data": {
      "text/plain": [
       "48"
      ]
     },
     "execution_count": 71,
     "metadata": {},
     "output_type": "execute_result"
    }
   ],
   "source": [
    "len(data)"
   ]
  },
  {
   "cell_type": "code",
   "execution_count": null,
   "id": "1e4893f4-728d-43fe-ba30-2fd345c5537d",
   "metadata": {},
   "outputs": [],
   "source": []
  }
 ],
 "metadata": {
  "kernelspec": {
   "display_name": "Python 3 (ipykernel)",
   "language": "python",
   "name": "python3"
  },
  "language_info": {
   "codemirror_mode": {
    "name": "ipython",
    "version": 3
   },
   "file_extension": ".py",
   "mimetype": "text/x-python",
   "name": "python",
   "nbconvert_exporter": "python",
   "pygments_lexer": "ipython3",
   "version": "3.9.10"
  }
 },
 "nbformat": 4,
 "nbformat_minor": 5
}
