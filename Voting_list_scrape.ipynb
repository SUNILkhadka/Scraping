{
 "cells": [
  {
   "cell_type": "code",
   "execution_count": 6,
   "id": "609b1148-334b-4d2b-b4b3-1a8eb26e0e10",
   "metadata": {},
   "outputs": [],
   "source": [
    "import requests,json\n",
    "from bs4 import BeautifulSoup"
   ]
  },
  {
   "cell_type": "code",
   "execution_count": 3,
   "id": "f4c3409d-c9e1-4d60-81b7-43bb3c99778b",
   "metadata": {
    "tags": []
   },
   "outputs": [],
   "source": [
    "def voting_list(state,district,vdc_mun,ward_no):\n",
    "    ''' \n",
    "        This script/module scrapes data from nepal government \n",
    "        website:\"https://election.gov.np/np/page/voter-list-db\" \n",
    "        ,parse the data and save it to a json file.\n",
    "        -----------------------------------------------\n",
    "        eg:\n",
    "        state = {'name':'Provision_1','no':1}\n",
    "        district = {'name':'Sunsari','no':10}\n",
    "        vcd_mun = {'name':'ईटहरी उपमहानगरपालिका','no':5092}  \n",
    "            // vdc/mun name appears in the data so for better provide in nepali\n",
    "        ward_no = [2]\n",
    "            // can provide lists of ward\n",
    "\n",
    "        \\\\Note: state no, ward no, district no & vcd_mun no can be found on the original site html file \n",
    "\n",
    "        >>>> Itahari_data = voting_list(state,district,vdc_mun,ward_no)  //Returns a list of dictionaries\n",
    "        >>>> save('itahari_data',Itahari_data) // It save data to itahari_data.json file \n",
    "        \n",
    "        OR ``can scrape multiple munipalities and save to a single file``\n",
    "        \n",
    "        >>>> kathmandu_metro_data = voting_list(state,district,vdc_mun,ward_no)\n",
    "        >>>> save('Itahari_&_kathmandu_data',kathmandu_metro_data,Itahari_data)\n",
    "             // It saves both itahari and ktm data  \n",
    "    '''\n",
    "    state_name = state['name']\n",
    "    state_no = state['no']\n",
    "    district_name = district['name']\n",
    "    district_no = district['no']\n",
    "    vdc_mun_name = vdc_mun['name']\n",
    "    vdc_mun_no = vdc_mun['no']\n",
    "    list_data = []\n",
    "    for ward in ward_no:\n",
    "        payload = {\n",
    "            'state':f'{state_no}',\n",
    "            'district':f'{district_no}',\n",
    "            'vdc_mun':f'{vdc_mun_no}',\n",
    "            'ward':f'{ward}',\n",
    "            'reg_centre':''\n",
    "                }\n",
    "        url = 'https://voterlist.election.gov.np/bbvrs/view_ward_1.php'\n",
    "        response = requests.post(url,data=payload)\n",
    "        soup = BeautifulSoup(response.text,\"html.parser\") \n",
    "        div = soup.find('div',class_='div_bbvrs_data')\n",
    "        table = div.find(\"table\")\n",
    "        head_table_data = ['voter_id','voter_name','age','gender','spouse_name','parent_name','vdc_mun','ward']\n",
    "        body_table_data = table.tbody.find_all(\"tr\")  \n",
    "        for count in range(len(body_table_data)):\n",
    "            dict_data = {}\n",
    "            for i,th in enumerate(head_table_data):\n",
    "                if i <=5:\n",
    "                    dict_data[th] = body_table_data[count].find_all(\"td\")[i+1].get_text()   \n",
    "                elif i == 6:\n",
    "                    dict_data[th] = vdc_mun_name\n",
    "                else:\n",
    "                    dict_data[th] = str(ward)\n",
    "            list_data.append(dict_data)\n",
    "    numbers_map = {'0': '०','1': '१','2': '२','3': '३','4': '४','5': '५','6': '६','7': '७','8': '८','9': '९'}\n",
    "    num_unicode_ls = ['voter_id','age','ward']\n",
    "    for data in list_data:\n",
    "        for key in data.keys():\n",
    "            if key in num_unicode_ls:\n",
    "                for eng_num,unicode  in numbers_map.items():\n",
    "                    data[key] = data[key].replace(eng_num,unicode)\n",
    "    return list_data \n",
    "\n",
    "def save(file_name,list_,*args):   \n",
    "    for arg in args:\n",
    "        list_ += arg\n",
    "    with open(f'{file_name}.json','w',encoding='utf8') as file:\n",
    "        json.dump(list_,file,ensure_ascii=False)"
   ]
  },
  {
   "cell_type": "code",
   "execution_count": 4,
   "id": "f738edb6-dc07-4fd1-b620-7ee97fc6733d",
   "metadata": {},
   "outputs": [],
   "source": [
    "ktm_ward = [2, 3, 4, 5]\n",
    "budhanilkantha_ward = [3, 4, 5, 6, 7 ]\n",
    "tokha_mun_ward = [2, 3, 4, 5, 6, 7]\n",
    "state = {\"name\" : \"बागमती प्रदेश\",\n",
    "       \"no\" : \"3\"}\n",
    "district = {\"name\" : \"काठमाण्डौ\",\n",
    "            \"no\" : \"26\"}\n",
    "ktm = {\"name\" : \"काठमाण्डौ महानगरपालिका\",\n",
    "            \"no\" : \"5278\"}\n",
    "budhanilkantha = {\"name\" : \"बुढानिलकण्ठ नगरपालिका\",\n",
    "                 \"no\" : \"5286\"}\n",
    "tokha_mun = {\"name\" : \"टोखा नगरपालिका\",\n",
    "            \"no\" : \"5282\"}"
   ]
  },
  {
   "cell_type": "code",
   "execution_count": null,
   "id": "14c3f731-a018-45ed-b9f0-3e3691e8e039",
   "metadata": {},
   "outputs": [],
   "source": [
    "ktm_metro = voting_list(state,district,ktm,ktm_ward)\n",
    "budhanilkantha_metro = voting_list(state,district,budhanilkantha,budhanilkantha_ward)\n",
    "tokha_metro = voting_list(state,district,tokha_mun,tokha_mun_ward)"
   ]
  },
  {
   "cell_type": "code",
   "execution_count": 24,
   "id": "b4acb4fc-0e52-43a6-919b-1a38d808f50f",
   "metadata": {},
   "outputs": [],
   "source": [
    "save('final_voting_list',ktm_metro,budhanilkantha_metro,tokha_metro)"
   ]
  },
  {
   "cell_type": "code",
   "execution_count": null,
   "id": "ec01729a-999b-49c6-b873-7357401dda6a",
   "metadata": {},
   "outputs": [],
   "source": []
  }
 ],
 "metadata": {
  "kernelspec": {
   "display_name": "Python 3 (ipykernel)",
   "language": "python",
   "name": "python3"
  },
  "language_info": {
   "codemirror_mode": {
    "name": "ipython",
    "version": 3
   },
   "file_extension": ".py",
   "mimetype": "text/x-python",
   "name": "python",
   "nbconvert_exporter": "python",
   "pygments_lexer": "ipython3",
   "version": "3.9.10"
  }
 },
 "nbformat": 4,
 "nbformat_minor": 5
}
